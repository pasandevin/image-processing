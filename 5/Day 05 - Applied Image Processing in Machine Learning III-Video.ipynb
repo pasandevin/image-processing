{
 "cells": [
  {
   "cell_type": "code",
   "execution_count": 1,
   "metadata": {},
   "outputs": [],
   "source": [
    "import joblib\n",
    "\n",
    "model=joblib.load('face-detect-model.sav')"
   ]
  },
  {
   "cell_type": "code",
   "execution_count": 2,
   "metadata": {},
   "outputs": [],
   "source": [
    "from skimage import feature\n",
    "import numpy as np\n",
    "\n",
    "def detect(img,h=62,w=47,slide=8):\n",
    "    \n",
    "    coords=[]\n",
    "    \n",
    "    for y in range(0,img.shape[0]-h,slide):\n",
    "        for x in range(0,img.shape[1]-w,slide):\n",
    "            \n",
    "            patch=img[y:y+h,x:x+w] \n",
    "            #print(patch.shape)\n",
    "            hog_img=feature.hog(patch)\n",
    "            label=model.predict([hog_img])\n",
    "            \n",
    "            if(label==1):\n",
    "                \n",
    "                coords.append((x,y,w,h))\n",
    "                \n",
    "    return np.array(coords)"
   ]
  },
  {
   "cell_type": "code",
   "execution_count": 4,
   "metadata": {},
   "outputs": [],
   "source": [
    "import cv2\n",
    "\n",
    "source=cv2.VideoCapture(2)\n",
    "\n",
    "while(True):\n",
    "    \n",
    "    ret,img=source.read()\n",
    "    \n",
    "    img=cv2.resize(img,(0,0),fx=0.2,fy=0.2)\n",
    "    \n",
    "    if(ret==False):\n",
    "        break\n",
    "    \n",
    "    gray=cv2.cvtColor(img,cv2.COLOR_BGR2GRAY)\n",
    "    faces = detect(gray)\n",
    "    \n",
    "    for x,y,w,h in faces:\n",
    "\n",
    "        cv2.rectangle(img,(x,y),(x+w,y+h),(0,255,0),1)\n",
    "\n",
    "    cv2.imshow('img',img)\n",
    "    k=cv2.waitKey(1)\n",
    "    if(k==27):\n",
    "        break\n",
    "        \n",
    "cv2.destroyAllWindows()\n",
    "source.release()"
   ]
  },
  {
   "cell_type": "code",
   "execution_count": null,
   "metadata": {},
   "outputs": [],
   "source": []
  }
 ],
 "metadata": {
  "kernelspec": {
   "display_name": "Python 3",
   "language": "python",
   "name": "python3"
  },
  "language_info": {
   "codemirror_mode": {
    "name": "ipython",
    "version": 3
   },
   "file_extension": ".py",
   "mimetype": "text/x-python",
   "name": "python",
   "nbconvert_exporter": "python",
   "pygments_lexer": "ipython3",
   "version": "3.8.5"
  }
 },
 "nbformat": 4,
 "nbformat_minor": 4
}
